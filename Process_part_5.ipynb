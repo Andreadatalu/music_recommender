{
 "cells": [
  {
   "cell_type": "markdown",
   "id": "e08909b4",
   "metadata": {},
   "source": [
    "# MUSIC RECOMMENDER FINAL STEP\n",
    "\n",
    "Aplying the recommender model to our top 100 and big playlist."
   ]
  },
  {
   "cell_type": "code",
   "execution_count": 1,
   "id": "333031f4",
   "metadata": {},
   "outputs": [],
   "source": [
    "import numpy as np\n",
    "import pandas as pd\n",
    "import matplotlib.pyplot as plt\n",
    "from sklearn.preprocessing import StandardScaler\n",
    "from sklearn import cluster, datasets"
   ]
  },
  {
   "cell_type": "code",
   "execution_count": 2,
   "id": "96720d79",
   "metadata": {},
   "outputs": [],
   "source": [
    "#Open the top 100"
   ]
  },
  {
   "cell_type": "code",
   "execution_count": 3,
   "id": "caff9e46",
   "metadata": {},
   "outputs": [
    {
     "data": {
      "text/html": [
       "<div>\n",
       "<style scoped>\n",
       "    .dataframe tbody tr th:only-of-type {\n",
       "        vertical-align: middle;\n",
       "    }\n",
       "\n",
       "    .dataframe tbody tr th {\n",
       "        vertical-align: top;\n",
       "    }\n",
       "\n",
       "    .dataframe thead th {\n",
       "        text-align: right;\n",
       "    }\n",
       "</style>\n",
       "<table border=\"1\" class=\"dataframe\">\n",
       "  <thead>\n",
       "    <tr style=\"text-align: right;\">\n",
       "      <th></th>\n",
       "      <th>title</th>\n",
       "      <th>artist</th>\n",
       "    </tr>\n",
       "  </thead>\n",
       "  <tbody>\n",
       "    <tr>\n",
       "      <th>0</th>\n",
       "      <td>81 Million Votes, My Ass</td>\n",
       "      <td>The Truth Bombers &amp; Kari Lake</td>\n",
       "    </tr>\n",
       "    <tr>\n",
       "      <th>1</th>\n",
       "      <td>Fast Car</td>\n",
       "      <td>Luke Combs</td>\n",
       "    </tr>\n",
       "    <tr>\n",
       "      <th>2</th>\n",
       "      <td>Last Night</td>\n",
       "      <td>Morgan Wallen</td>\n",
       "    </tr>\n",
       "    <tr>\n",
       "      <th>3</th>\n",
       "      <td>Take Two</td>\n",
       "      <td>BTS</td>\n",
       "    </tr>\n",
       "    <tr>\n",
       "      <th>4</th>\n",
       "      <td>Need A Favor</td>\n",
       "      <td>Jelly Roll</td>\n",
       "    </tr>\n",
       "  </tbody>\n",
       "</table>\n",
       "</div>"
      ],
      "text/plain": [
       "                      title                         artist\n",
       "0  81 Million Votes, My Ass  The Truth Bombers & Kari Lake\n",
       "1                  Fast Car                     Luke Combs\n",
       "2                Last Night                  Morgan Wallen\n",
       "3                  Take Two                            BTS\n",
       "4              Need A Favor                     Jelly Roll"
      ]
     },
     "execution_count": 3,
     "metadata": {},
     "output_type": "execute_result"
    }
   ],
   "source": [
    "Top_100 = pd.read_csv('music_top100.csv')\n",
    "Top_100.head()"
   ]
  },
  {
   "cell_type": "code",
   "execution_count": 4,
   "id": "c2178d32",
   "metadata": {},
   "outputs": [],
   "source": [
    "#Open the final_playlist"
   ]
  },
  {
   "cell_type": "code",
   "execution_count": 5,
   "id": "58c13408",
   "metadata": {},
   "outputs": [
    {
     "data": {
      "text/html": [
       "<div>\n",
       "<style scoped>\n",
       "    .dataframe tbody tr th:only-of-type {\n",
       "        vertical-align: middle;\n",
       "    }\n",
       "\n",
       "    .dataframe tbody tr th {\n",
       "        vertical-align: top;\n",
       "    }\n",
       "\n",
       "    .dataframe thead th {\n",
       "        text-align: right;\n",
       "    }\n",
       "</style>\n",
       "<table border=\"1\" class=\"dataframe\">\n",
       "  <thead>\n",
       "    <tr style=\"text-align: right;\">\n",
       "      <th></th>\n",
       "      <th>title</th>\n",
       "      <th>artist</th>\n",
       "      <th>cluster</th>\n",
       "    </tr>\n",
       "  </thead>\n",
       "  <tbody>\n",
       "    <tr>\n",
       "      <th>0</th>\n",
       "      <td>You're The One - Un mal pour un bien</td>\n",
       "      <td>Petula Clark</td>\n",
       "      <td>0</td>\n",
       "    </tr>\n",
       "    <tr>\n",
       "      <th>1</th>\n",
       "      <td>Doctor My Eyes</td>\n",
       "      <td>Jackson Browne</td>\n",
       "      <td>4</td>\n",
       "    </tr>\n",
       "    <tr>\n",
       "      <th>2</th>\n",
       "      <td>Falling in Love at a Coffee Shop</td>\n",
       "      <td>Landon Pigg</td>\n",
       "      <td>7</td>\n",
       "    </tr>\n",
       "    <tr>\n",
       "      <th>3</th>\n",
       "      <td>Peaceful Easy Feeling - 2013 Remaster</td>\n",
       "      <td>Eagles</td>\n",
       "      <td>4</td>\n",
       "    </tr>\n",
       "    <tr>\n",
       "      <th>4</th>\n",
       "      <td>Summertime Blues</td>\n",
       "      <td>Eddie Cochran</td>\n",
       "      <td>3</td>\n",
       "    </tr>\n",
       "  </tbody>\n",
       "</table>\n",
       "</div>"
      ],
      "text/plain": [
       "                                   title          artist  cluster\n",
       "0   You're The One - Un mal pour un bien    Petula Clark        0\n",
       "1                         Doctor My Eyes  Jackson Browne        4\n",
       "2       Falling in Love at a Coffee Shop     Landon Pigg        7\n",
       "3  Peaceful Easy Feeling - 2013 Remaster          Eagles        4\n",
       "4                       Summertime Blues   Eddie Cochran        3"
      ]
     },
     "execution_count": 5,
     "metadata": {},
     "output_type": "execute_result"
    }
   ],
   "source": [
    "Big_playlist = pd.read_csv('final_playlist.csv')\n",
    "Big_playlist.head()"
   ]
  },
  {
   "cell_type": "code",
   "execution_count": 6,
   "id": "50150a0d",
   "metadata": {},
   "outputs": [],
   "source": [
    "import pickle\n",
    "\n",
    "kmeans = pickle.load(open('kmeans.pkl', 'rb'))\n",
    "scaler = pickle.load(open('scaler.pkl', 'rb'))"
   ]
  },
  {
   "cell_type": "code",
   "execution_count": 7,
   "id": "aa53811a",
   "metadata": {},
   "outputs": [
    {
     "data": {
      "text/html": [
       "<style>#sk-container-id-1 {color: black;background-color: white;}#sk-container-id-1 pre{padding: 0;}#sk-container-id-1 div.sk-toggleable {background-color: white;}#sk-container-id-1 label.sk-toggleable__label {cursor: pointer;display: block;width: 100%;margin-bottom: 0;padding: 0.3em;box-sizing: border-box;text-align: center;}#sk-container-id-1 label.sk-toggleable__label-arrow:before {content: \"▸\";float: left;margin-right: 0.25em;color: #696969;}#sk-container-id-1 label.sk-toggleable__label-arrow:hover:before {color: black;}#sk-container-id-1 div.sk-estimator:hover label.sk-toggleable__label-arrow:before {color: black;}#sk-container-id-1 div.sk-toggleable__content {max-height: 0;max-width: 0;overflow: hidden;text-align: left;background-color: #f0f8ff;}#sk-container-id-1 div.sk-toggleable__content pre {margin: 0.2em;color: black;border-radius: 0.25em;background-color: #f0f8ff;}#sk-container-id-1 input.sk-toggleable__control:checked~div.sk-toggleable__content {max-height: 200px;max-width: 100%;overflow: auto;}#sk-container-id-1 input.sk-toggleable__control:checked~label.sk-toggleable__label-arrow:before {content: \"▾\";}#sk-container-id-1 div.sk-estimator input.sk-toggleable__control:checked~label.sk-toggleable__label {background-color: #d4ebff;}#sk-container-id-1 div.sk-label input.sk-toggleable__control:checked~label.sk-toggleable__label {background-color: #d4ebff;}#sk-container-id-1 input.sk-hidden--visually {border: 0;clip: rect(1px 1px 1px 1px);clip: rect(1px, 1px, 1px, 1px);height: 1px;margin: -1px;overflow: hidden;padding: 0;position: absolute;width: 1px;}#sk-container-id-1 div.sk-estimator {font-family: monospace;background-color: #f0f8ff;border: 1px dotted black;border-radius: 0.25em;box-sizing: border-box;margin-bottom: 0.5em;}#sk-container-id-1 div.sk-estimator:hover {background-color: #d4ebff;}#sk-container-id-1 div.sk-parallel-item::after {content: \"\";width: 100%;border-bottom: 1px solid gray;flex-grow: 1;}#sk-container-id-1 div.sk-label:hover label.sk-toggleable__label {background-color: #d4ebff;}#sk-container-id-1 div.sk-serial::before {content: \"\";position: absolute;border-left: 1px solid gray;box-sizing: border-box;top: 0;bottom: 0;left: 50%;z-index: 0;}#sk-container-id-1 div.sk-serial {display: flex;flex-direction: column;align-items: center;background-color: white;padding-right: 0.2em;padding-left: 0.2em;position: relative;}#sk-container-id-1 div.sk-item {position: relative;z-index: 1;}#sk-container-id-1 div.sk-parallel {display: flex;align-items: stretch;justify-content: center;background-color: white;position: relative;}#sk-container-id-1 div.sk-item::before, #sk-container-id-1 div.sk-parallel-item::before {content: \"\";position: absolute;border-left: 1px solid gray;box-sizing: border-box;top: 0;bottom: 0;left: 50%;z-index: -1;}#sk-container-id-1 div.sk-parallel-item {display: flex;flex-direction: column;z-index: 1;position: relative;background-color: white;}#sk-container-id-1 div.sk-parallel-item:first-child::after {align-self: flex-end;width: 50%;}#sk-container-id-1 div.sk-parallel-item:last-child::after {align-self: flex-start;width: 50%;}#sk-container-id-1 div.sk-parallel-item:only-child::after {width: 0;}#sk-container-id-1 div.sk-dashed-wrapped {border: 1px dashed gray;margin: 0 0.4em 0.5em 0.4em;box-sizing: border-box;padding-bottom: 0.4em;background-color: white;}#sk-container-id-1 div.sk-label label {font-family: monospace;font-weight: bold;display: inline-block;line-height: 1.2em;}#sk-container-id-1 div.sk-label-container {text-align: center;}#sk-container-id-1 div.sk-container {/* jupyter's `normalize.less` sets `[hidden] { display: none; }` but bootstrap.min.css set `[hidden] { display: none !important; }` so we also need the `!important` here to be able to override the default hidden behavior on the sphinx rendered scikit-learn.org. See: https://github.com/scikit-learn/scikit-learn/issues/21755 */display: inline-block !important;position: relative;}#sk-container-id-1 div.sk-text-repr-fallback {display: none;}</style><div id=\"sk-container-id-1\" class=\"sk-top-container\"><div class=\"sk-text-repr-fallback\"><pre>KMeans()</pre><b>In a Jupyter environment, please rerun this cell to show the HTML representation or trust the notebook. <br />On GitHub, the HTML representation is unable to render, please try loading this page with nbviewer.org.</b></div><div class=\"sk-container\" hidden><div class=\"sk-item\"><div class=\"sk-estimator sk-toggleable\"><input class=\"sk-toggleable__control sk-hidden--visually\" id=\"sk-estimator-id-1\" type=\"checkbox\" checked><label for=\"sk-estimator-id-1\" class=\"sk-toggleable__label sk-toggleable__label-arrow\">KMeans</label><div class=\"sk-toggleable__content\"><pre>KMeans()</pre></div></div></div></div></div>"
      ],
      "text/plain": [
       "KMeans()"
      ]
     },
     "execution_count": 7,
     "metadata": {},
     "output_type": "execute_result"
    }
   ],
   "source": [
    "kmeans"
   ]
  },
  {
   "cell_type": "code",
   "execution_count": 8,
   "id": "16a09061",
   "metadata": {},
   "outputs": [],
   "source": [
    "import spotipy\n",
    "from spotipy.oauth2 import SpotifyClientCredentials\n",
    "import pandas as pd"
   ]
  },
  {
   "cell_type": "code",
   "execution_count": 9,
   "id": "8ab17e5a",
   "metadata": {},
   "outputs": [],
   "source": [
    "secrets_file = open(\"secrets.txt\",\"r\")"
   ]
  },
  {
   "cell_type": "code",
   "execution_count": 10,
   "id": "5f074fc9",
   "metadata": {},
   "outputs": [],
   "source": [
    "string = secrets_file.read()"
   ]
  },
  {
   "cell_type": "code",
   "execution_count": 11,
   "id": "17e6ce9f",
   "metadata": {},
   "outputs": [],
   "source": [
    "#string.split('\\n')"
   ]
  },
  {
   "cell_type": "code",
   "execution_count": 12,
   "id": "1bf64ad0",
   "metadata": {},
   "outputs": [],
   "source": [
    "secrets_dict={}\n",
    "for line in string.split('\\n'):\n",
    "    if len(line) > 0:\n",
    "        secrets_dict[line.split(':')[0]]=line.split(':')[1].strip()"
   ]
  },
  {
   "cell_type": "code",
   "execution_count": 13,
   "id": "0811525b",
   "metadata": {},
   "outputs": [],
   "source": [
    "#secrets_dict"
   ]
  },
  {
   "cell_type": "code",
   "execution_count": 14,
   "id": "8273fda6",
   "metadata": {},
   "outputs": [],
   "source": [
    "sp = spotipy.Spotify(auth_manager=SpotifyClientCredentials(client_id=secrets_dict['ClientID'],\n",
    "                                                           client_secret=secrets_dict['Clientsecret']))"
   ]
  },
  {
   "cell_type": "markdown",
   "id": "86935afe",
   "metadata": {},
   "source": [
    "# Looking for Input audio features"
   ]
  },
  {
   "cell_type": "code",
   "execution_count": 15,
   "id": "4a7c8d44",
   "metadata": {},
   "outputs": [],
   "source": [
    "#user_input = input(\"Type a song title: \")"
   ]
  },
  {
   "cell_type": "code",
   "execution_count": 16,
   "id": "43cce214",
   "metadata": {},
   "outputs": [],
   "source": [
    "#song = sp.search(q=user_input, type='track', limit=1)"
   ]
  },
  {
   "cell_type": "code",
   "execution_count": 17,
   "id": "e8f8e471",
   "metadata": {},
   "outputs": [],
   "source": [
    "#song_uri = song['tracks']['items'][0]['uri']"
   ]
  },
  {
   "cell_type": "code",
   "execution_count": 18,
   "id": "c28ceec6",
   "metadata": {},
   "outputs": [],
   "source": [
    "#song_features = sp.audio_features(song_uri)\n",
    "#song_features"
   ]
  },
  {
   "cell_type": "code",
   "execution_count": 19,
   "id": "667f9a7d",
   "metadata": {},
   "outputs": [],
   "source": [
    "#song_features_df = pd.DataFrame(song_features)\n",
    "#song_features_df"
   ]
  },
  {
   "cell_type": "code",
   "execution_count": 20,
   "id": "346d5721",
   "metadata": {},
   "outputs": [],
   "source": [
    "#song_features_df1 = song_features_df[['danceability', 'energy', 'key', 'loudness', 'mode','speechiness', 'acousticness', 'instrumentalness', 'liveness', 'valence','tempo', 'duration_ms']]\n",
    "#song_features_df1"
   ]
  },
  {
   "cell_type": "code",
   "execution_count": 21,
   "id": "04ec4883",
   "metadata": {},
   "outputs": [],
   "source": [
    "#song_features_scaled = StandardScaler().fit_transform(song_features_df1)\n",
    "#song_features_scaled"
   ]
  },
  {
   "cell_type": "code",
   "execution_count": 22,
   "id": "a4d7a7fa",
   "metadata": {},
   "outputs": [],
   "source": [
    "#cluster1 = kmeans.predict(song_features_scaled)\n",
    "#cluster1"
   ]
  },
  {
   "cell_type": "markdown",
   "id": "c636f5da",
   "metadata": {},
   "source": [
    "# Functions for recommendation"
   ]
  },
  {
   "cell_type": "code",
   "execution_count": 23,
   "id": "6f273618",
   "metadata": {},
   "outputs": [
    {
     "name": "stdout",
     "output_type": "stream",
     "text": [
      "Type a song title: fast car\n",
      "[{'danceability': 0.712, 'energy': 0.603, 'key': 8, 'loudness': -5.52, 'mode': 1, 'speechiness': 0.0262, 'acousticness': 0.186, 'instrumentalness': 0, 'liveness': 0.115, 'valence': 0.67, 'tempo': 97.994, 'type': 'audio_features', 'id': '1Lo0QY9cvc8sUB2vnIOxDT', 'uri': 'spotify:track:1Lo0QY9cvc8sUB2vnIOxDT', 'track_href': 'https://api.spotify.com/v1/tracks/1Lo0QY9cvc8sUB2vnIOxDT', 'analysis_url': 'https://api.spotify.com/v1/audio-analysis/1Lo0QY9cvc8sUB2vnIOxDT', 'duration_ms': 265493, 'time_signature': 4}]\n"
     ]
    }
   ],
   "source": [
    "def song_features(user_input):\n",
    "        song = sp.search(q=user_input, type='track', limit=1)\n",
    "        song_uri = song['tracks']['items'][0]['uri']\n",
    "        song_feat = sp.audio_features(song_uri)\n",
    "        return song_feat\n",
    "    \n",
    "user_input = input(\"Type a song title: \")\n",
    "song_feat = song_features(user_input)\n",
    "\n",
    "print(song_feat)"
   ]
  },
  {
   "cell_type": "code",
   "execution_count": 24,
   "id": "d4b1f7a0",
   "metadata": {},
   "outputs": [
    {
     "data": {
      "text/html": [
       "<div>\n",
       "<style scoped>\n",
       "    .dataframe tbody tr th:only-of-type {\n",
       "        vertical-align: middle;\n",
       "    }\n",
       "\n",
       "    .dataframe tbody tr th {\n",
       "        vertical-align: top;\n",
       "    }\n",
       "\n",
       "    .dataframe thead th {\n",
       "        text-align: right;\n",
       "    }\n",
       "</style>\n",
       "<table border=\"1\" class=\"dataframe\">\n",
       "  <thead>\n",
       "    <tr style=\"text-align: right;\">\n",
       "      <th></th>\n",
       "      <th>danceability</th>\n",
       "      <th>energy</th>\n",
       "      <th>key</th>\n",
       "      <th>loudness</th>\n",
       "      <th>mode</th>\n",
       "      <th>speechiness</th>\n",
       "      <th>acousticness</th>\n",
       "      <th>instrumentalness</th>\n",
       "      <th>liveness</th>\n",
       "      <th>valence</th>\n",
       "      <th>tempo</th>\n",
       "      <th>duration_ms</th>\n",
       "    </tr>\n",
       "  </thead>\n",
       "  <tbody>\n",
       "    <tr>\n",
       "      <th>0</th>\n",
       "      <td>0.712</td>\n",
       "      <td>0.603</td>\n",
       "      <td>8</td>\n",
       "      <td>-5.52</td>\n",
       "      <td>1</td>\n",
       "      <td>0.0262</td>\n",
       "      <td>0.186</td>\n",
       "      <td>0</td>\n",
       "      <td>0.115</td>\n",
       "      <td>0.67</td>\n",
       "      <td>97.994</td>\n",
       "      <td>265493</td>\n",
       "    </tr>\n",
       "  </tbody>\n",
       "</table>\n",
       "</div>"
      ],
      "text/plain": [
       "   danceability  energy  key  loudness  mode  speechiness  acousticness  \\\n",
       "0         0.712   0.603    8     -5.52     1       0.0262         0.186   \n",
       "\n",
       "   instrumentalness  liveness  valence   tempo  duration_ms  \n",
       "0                 0     0.115     0.67  97.994       265493  "
      ]
     },
     "execution_count": 24,
     "metadata": {},
     "output_type": "execute_result"
    }
   ],
   "source": [
    "def song_df(song_feat):\n",
    "    song_features_df = pd.DataFrame(song_feat)\n",
    "    song_features_df1 = song_features_df[['danceability', 'energy', 'key', 'loudness', 'mode','speechiness', 'acousticness', 'instrumentalness', 'liveness', 'valence','tempo', 'duration_ms']]\n",
    "    return song_features_df1\n",
    "\n",
    "song_features_df1 = song_df(song_feat)\n",
    "song_features_df1"
   ]
  },
  {
   "cell_type": "code",
   "execution_count": 25,
   "id": "9f6f0cee",
   "metadata": {},
   "outputs": [
    {
     "name": "stderr",
     "output_type": "stream",
     "text": [
      "C:\\Users\\Andrea\\anaconda3\\lib\\site-packages\\sklearn\\base.py:420: UserWarning: X does not have valid feature names, but KMeans was fitted with feature names\n",
      "  warnings.warn(\n"
     ]
    },
    {
     "data": {
      "text/plain": [
       "4"
      ]
     },
     "execution_count": 25,
     "metadata": {},
     "output_type": "execute_result"
    }
   ],
   "source": [
    "def song_cluster(song_features_df1):\n",
    "    song_features_scaled = scaler.transform(song_features_df1)\n",
    "    cluster = kmeans.predict(song_features_scaled)\n",
    "    return cluster \n",
    "\n",
    "cluster = list(song_cluster(song_features_df1))[0]\n",
    "cluster\n"
   ]
  },
  {
   "cell_type": "markdown",
   "id": "5162d7ae",
   "metadata": {},
   "source": [
    "# Music Recommender"
   ]
  },
  {
   "cell_type": "code",
   "execution_count": 26,
   "id": "09159cc9",
   "metadata": {},
   "outputs": [],
   "source": [
    "#pip install fuzzywuzzy"
   ]
  },
  {
   "cell_type": "code",
   "execution_count": 30,
   "id": "620b9ca6",
   "metadata": {},
   "outputs": [
    {
     "name": "stdout",
     "output_type": "stream",
     "text": [
      "Type a song title: fast car\n",
      "Fantastic, your song is in the Top 100; here is another suggestion: '81 Million Votes, My Ass' by The Truth Bombers & Kari Lake, enjoy!\n"
     ]
    }
   ],
   "source": [
    "from fuzzywuzzy import fuzz\n",
    "\n",
    "def recommend_song(user_input, Top_100, Big_playlist):\n",
    "    if any(fuzz.ratio(user_input.lower(), title.lower()) >= 90 for title in Top_100['title'].values):\n",
    "        # I the song is in the Top 100\n",
    "        # Select a ramdom song from Top 100\n",
    "        random_song = Top_100[Top_100['title'].apply(lambda x: fuzz.ratio(user_input.lower(), x.lower()) < 90)].sample(1)\n",
    "        recommended_song = random_song.iloc[0]['title']\n",
    "        recommended_artist = random_song.iloc[0]['artist']\n",
    "        return f\"Fantastic, your song is in the Top 100; here is another suggestion: '{recommended_song}' by {recommended_artist}, enjoy!\"\n",
    "    \n",
    "    else:\n",
    "        # If the song is not in the Top 100\n",
    "        # Get the features of the song and apply a cluster for it and recommend\n",
    "        song_feat = song_features(user_input)\n",
    "        if len(song_feat) == 0:\n",
    "            return \"Sorry, I don't have a recommendation at this time. Try with a new song.\"\n",
    "        else:\n",
    "            song_features_df1 = song_df(song_feat)\n",
    "            cluster = list(song_cluster(song_features_df1))[0]\n",
    "\n",
    "            # Select a ramdom song from Big_playlist with the same cluster\n",
    "            cluster_songs = Big_playlist[Big_playlist['cluster'] == cluster]\n",
    "            random_song = cluster_songs.sample(1)\n",
    "            recommended_song = random_song.iloc[0]['title']\n",
    "            recommended_artist = random_song.iloc[0]['artist']\n",
    "            return f\"Great! I recommend you listen to: '{recommended_song}' by {recommended_artist}, enjoy!\"\n",
    "\n",
    "# User input for the song\n",
    "user_input = input(\"Type a song title: \").lower()\n",
    "\n",
    "recommendation = recommend_song(user_input, Top_100, Big_playlist)\n",
    "print(recommendation)\n"
   ]
  },
  {
   "cell_type": "markdown",
   "id": "47ec3996",
   "metadata": {},
   "source": [
    "# Verify that the song is in the Top 100."
   ]
  },
  {
   "cell_type": "code",
   "execution_count": 29,
   "id": "7e411e39",
   "metadata": {},
   "outputs": [
    {
     "name": "stdout",
     "output_type": "stream",
     "text": [
      "The song is not in the Top 100\n"
     ]
    }
   ],
   "source": [
    "def check_song_in_top100(song_title, top100_df):\n",
    "    song_exists = Top_100['title'].str.contains(song_title, case=False).any()\n",
    "    return song_exists\n",
    "\n",
    "song_title = \"gasolina\"  \n",
    "\n",
    "if check_song_in_top100(song_title, Top_100):\n",
    "    print(\"The song is in the Top 100.\")\n",
    "else:\n",
    "    print(\"The song is not in the Top 100\")\n"
   ]
  },
  {
   "cell_type": "markdown",
   "id": "9d6b3394",
   "metadata": {},
   "source": [
    "# Verify that the song is in the Big playlist."
   ]
  },
  {
   "cell_type": "code",
   "execution_count": null,
   "id": "0ff5bb2f",
   "metadata": {},
   "outputs": [],
   "source": [
    "def check_song_in_big_playlist(song_title, top100_df):\n",
    "    song_exists = Big_playlist['title'].str.contains(song_title, case=False).any()\n",
    "    return song_exists\n",
    "\n",
    "song_title = \"Doctor My Eyes\"  \n",
    "\n",
    "if check_song_in_big_playlist(song_title, Big_playlist):\n",
    "    print(\"The song is in the Big playlist.\")\n",
    "else:\n",
    "    print(\"The song is not in the Big playlist\")\n"
   ]
  },
  {
   "cell_type": "code",
   "execution_count": null,
   "id": "b873f446",
   "metadata": {},
   "outputs": [],
   "source": []
  }
 ],
 "metadata": {
  "kernelspec": {
   "display_name": "Python 3 (ipykernel)",
   "language": "python",
   "name": "python3"
  },
  "language_info": {
   "codemirror_mode": {
    "name": "ipython",
    "version": 3
   },
   "file_extension": ".py",
   "mimetype": "text/x-python",
   "name": "python",
   "nbconvert_exporter": "python",
   "pygments_lexer": "ipython3",
   "version": "3.10.9"
  }
 },
 "nbformat": 4,
 "nbformat_minor": 5
}
